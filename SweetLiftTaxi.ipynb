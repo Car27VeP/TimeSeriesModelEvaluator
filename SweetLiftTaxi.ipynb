{
 "cells": [
  {
   "cell_type": "markdown",
   "metadata": {},
   "source": [
    "# Descripción del proyecto\n",
    "\n",
    "\n",
    "\n",
    "La compañía Sweet Lift Taxi ha recopilado datos históricos sobre pedidos de taxis en los aeropuertos. Para atraer a más conductores durante las horas pico, necesitamos predecir la cantidad de pedidos de taxis para la próxima hora. Construye un modelo para dicha predicción.\n",
    "\n",
    "\n",
    "\n",
    "La métrica RECM en el conjunto de prueba no debe ser superior a 48.\n",
    "\n",
    "\n",
    "\n",
    "## Instrucciones del proyecto.\n",
    "\n",
    "\n",
    "\n",
    "1. Descarga los datos y haz el remuestreo por una hora.\n",
    "\n",
    "2. Analiza los datos\n",
    "\n",
    "3. Entrena diferentes modelos con diferentes hiperparámetros. La muestra de prueba debe ser el 10% del conjunto de datos inicial.\n",
    "\n",
    "4. Prueba los datos usando la muestra de prueba y proporciona una conclusión.\n",
    "\n",
    "\n",
    "\n",
    "## Descripción de los datos\n",
    "\n",
    "\n",
    "\n",
    "Los datos se almacenan en el archivo `taxi.csv`. \t\n",
    "\n",
    "El número de pedidos está en la columna `num_orders`."
   ]
  },
  {
   "cell_type": "markdown",
   "metadata": {},
   "source": [
    "# 1. Preparacion"
   ]
  },
  {
   "cell_type": "code",
   "execution_count": null,
   "metadata": {},
   "outputs": [],
   "source": [
    "# %%\n",
    "import matplotlib.pyplot as plt\n",
    "import numpy as np\n",
    "import pandas as pd\n",
    "import seaborn as sns\n",
    "from statsmodels.tsa.seasonal import seasonal_decompose\n",
    "\n",
    "from sklearn.ensemble import RandomForestClassifier\n",
    "from sklearn.linear_model import LogisticRegression\n",
    "from sklearn.metrics import mean_absolute_error as mae\n",
    "from sklearn.model_selection import train_test_split\n",
    "from sklearn.tree import DecisionTreeClassifier\n",
    "\n",
    "import catboost as cb\n",
    "from lightgbm import LGBMRegressor\n",
    "from xgboost import XGBRegressor"
   ]
  },
  {
   "cell_type": "markdown",
   "metadata": {},
   "source": [
    "## Carga de los datos."
   ]
  },
  {
   "cell_type": "code",
   "execution_count": null,
   "metadata": {},
   "outputs": [],
   "source": [
    "# %% \n",
    "df_taxi = pd.read_csv(r'../../../datasets/taxi.csv')\n",
    "#num_orders = pd.read_csv(r'../../../datasets/num_orders.csv')"
   ]
  },
  {
   "cell_type": "markdown",
   "metadata": {},
   "source": [
    "# 2. Análisis"
   ]
  },
  {
   "cell_type": "markdown",
   "metadata": {},
   "source": [
    "## Observación general de los datos."
   ]
  },
  {
   "cell_type": "code",
   "execution_count": null,
   "metadata": {},
   "outputs": [],
   "source": [
    "# %%\n",
    "df_taxi.head()"
   ]
  },
  {
   "cell_type": "code",
   "execution_count": null,
   "metadata": {},
   "outputs": [],
   "source": [
    "# %%\n",
    "df_taxi.info()"
   ]
  },
  {
   "cell_type": "markdown",
   "metadata": {},
   "source": [
    "Obervamos que los datos se cargaron correctamente. \n",
    "\n",
    "El DataFrame 26 406 filas por 2 columnas, del cual no hay ningún registro nulo.\n",
    "\n",
    "el tipo de valores que tiene nuestro dataframe es object e int64. Dado que tenemos una columa llamada datetime,\n",
    "\n",
    "cambiar esta columna al formato correspondiente. También observamos el número de viajes registrados es\n",
    "\n",
    "cada 10 minutos. "
   ]
  },
  {
   "cell_type": "markdown",
   "metadata": {},
   "source": [
    "## Obervación estadística de los datos."
   ]
  },
  {
   "cell_type": "code",
   "execution_count": null,
   "metadata": {},
   "outputs": [],
   "source": [
    "# %%\n",
    "df_taxi.describe()"
   ]
  },
  {
   "cell_type": "code",
   "execution_count": null,
   "metadata": {},
   "outputs": [],
   "source": [
    "# %%\n",
    "df_taxi.plot(kind='box',title='Distribución de los viajes.')\n",
    "plt.show()"
   ]
  },
  {
   "cell_type": "markdown",
   "metadata": {},
   "source": [
    "En la descripción estadística observamos que\n",
    "\n",
    "los datos se encuentran ligeramente sesgados a la derecha; \n",
    "\n",
    "sin embargo no es problema para seguir adelante. El número de viajes totales fueron de 26 496, hubo resgistro hubo cero viajes \n",
    "\n",
    "y la cantidad máxima de viajes en una hora y día específico fueron de 119."
   ]
  },
  {
   "cell_type": "markdown",
   "metadata": {},
   "source": [
    "## Cambiar formato fecha y hacer remuestreo por una hora."
   ]
  },
  {
   "cell_type": "code",
   "execution_count": null,
   "metadata": {},
   "outputs": [],
   "source": [
    "# %%\n",
    "df_taxi['datetime'] = pd.to_datetime(df_taxi['datetime'])\n",
    "df = df_taxi.set_index('datetime')\n",
    "df = df.resample('1D').sum()"
   ]
  },
  {
   "cell_type": "code",
   "execution_count": null,
   "metadata": {},
   "outputs": [],
   "source": [
    "# %%\n",
    "df['rolling_mean'] = df['num_orders'].rolling(5).mean()\n",
    "df.plot(title=\"Viajes de marzo a agosto del 2018.\")\n",
    "plt.show()"
   ]
  },
  {
   "cell_type": "markdown",
   "metadata": {},
   "source": [
    "En la gráfica podemos obsservar la cantoidad de viajes regitrados\n",
    "\n",
    "de los días de marzo a agosto. Además suavizamos con promedio móvil la gráfica."
   ]
  },
  {
   "cell_type": "code",
   "execution_count": null,
   "metadata": {},
   "outputs": [],
   "source": [
    "# %% "
   ]
  },
  {
   "cell_type": "markdown",
   "metadata": {},
   "source": [
    "# 3. Formación"
   ]
  },
  {
   "cell_type": "markdown",
   "metadata": {},
   "source": [
    "# Prueba"
   ]
  },
  {
   "cell_type": "markdown",
   "metadata": {},
   "source": [
    " Lista de revisión"
   ]
  },
  {
   "cell_type": "markdown",
   "metadata": {},
   "source": [
    "- [x] Jupyter Notebook está abierto.\n",
    "\n",
    "- [ ]  El código no tiene errores\n",
    "\n",
    "- [ ]  Las celdas con el código han sido colocadas en el orden de ejecución.\n",
    "\n",
    "- [ ]  Los datos han sido descargados y preparados.\n",
    "\n",
    "- [ ]  Se ha realizado el paso 2: los datos han sido analizados\n",
    "\n",
    "- [ ]  Se entrenó el modelo y se seleccionaron los hiperparámetros\n",
    "\n",
    "- [ ]  Se han evaluado los modelos. Se expuso una conclusión\n",
    "\n",
    "- [ ]  La *RECM* para el conjunto de prueba no es más de 48\"\"\""
   ]
  },
  {
   "cell_type": "code",
   "execution_count": null,
   "metadata": {},
   "outputs": [],
   "source": [
    "# %%\n"
   ]
  }
 ],
 "metadata": {
  "language_info": {
   "codemirror_mode": {
    "name": "ipython",
    "version": 3
   },
   "file_extension": ".py",
   "mimetype": "text/x-python",
   "name": "python",
   "nbconvert_exporter": "python",
   "pygments_lexer": "ipython3",
   "version": 3
  }
 },
 "nbformat": 4,
 "nbformat_minor": 2
}
